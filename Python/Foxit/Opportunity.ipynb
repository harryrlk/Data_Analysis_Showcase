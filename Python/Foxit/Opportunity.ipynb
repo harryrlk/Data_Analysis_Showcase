{
 "cells": [
  {
   "cell_type": "code",
   "execution_count": 96,
   "id": "bcdfa32f",
   "metadata": {},
   "outputs": [],
   "source": [
    "import numpy as np\n",
    "import pandas as pd\n",
    "import matplotlib.pyplot as plt\n",
    "%matplotlib inline\n",
    "import seaborn as sns\n",
    "import warnings\n",
    "warnings.filterwarnings(\"ignore\")\n",
    "\n",
    "import random\n",
    "from sklearn.model_selection import train_test_split\n",
    "from sklearn.preprocessing import LabelEncoder,StandardScaler\n",
    "from sklearn import metrics\n",
    "from sklearn.feature_selection import RFE\n",
    "from sklearn.linear_model import LinearRegression\n",
    "from sklearn.linear_model import LogisticRegression\n",
    "from sklearn.metrics import classification_report,confusion_matrix,accuracy_score,precision_score,recall_score,f1_score\n",
    "from sklearn.metrics import roc_curve, auc\n"
   ]
  },
  {
   "cell_type": "code",
   "execution_count": 3,
   "id": "bdc99754",
   "metadata": {},
   "outputs": [
    {
     "data": {
      "text/html": [
       "<div>\n",
       "<style scoped>\n",
       "    .dataframe tbody tr th:only-of-type {\n",
       "        vertical-align: middle;\n",
       "    }\n",
       "\n",
       "    .dataframe tbody tr th {\n",
       "        vertical-align: top;\n",
       "    }\n",
       "\n",
       "    .dataframe thead th {\n",
       "        text-align: right;\n",
       "    }\n",
       "</style>\n",
       "<table border=\"1\" class=\"dataframe\">\n",
       "  <thead>\n",
       "    <tr style=\"text-align: right;\">\n",
       "      <th></th>\n",
       "      <th>Stage</th>\n",
       "      <th>Opportunity Name</th>\n",
       "      <th>Account Name</th>\n",
       "      <th>Created Date</th>\n",
       "      <th>Close Date</th>\n",
       "      <th>Amount</th>\n",
       "      <th>Licenses Quoted</th>\n",
       "      <th>Opportunity Owner</th>\n",
       "      <th>Lead Source</th>\n",
       "      <th>Territory</th>\n",
       "      <th>Country* field</th>\n",
       "      <th>Type</th>\n",
       "      <th>Contact: Email</th>\n",
       "      <th>Opportunity Product</th>\n",
       "    </tr>\n",
       "  </thead>\n",
       "  <tbody>\n",
       "    <tr>\n",
       "      <th>0</th>\n",
       "      <td>Stage 1: Qualification</td>\n",
       "      <td>ISD191-</td>\n",
       "      <td>ISD 191</td>\n",
       "      <td>2/16/2021</td>\n",
       "      <td>3/31/2021</td>\n",
       "      <td>NaN</td>\n",
       "      <td>NaN</td>\n",
       "      <td>Luke Barris</td>\n",
       "      <td>Volume Request</td>\n",
       "      <td>US</td>\n",
       "      <td>USA</td>\n",
       "      <td>Unknown</td>\n",
       "      <td>wbluhm@isd191.org</td>\n",
       "      <td>NaN</td>\n",
       "    </tr>\n",
       "    <tr>\n",
       "      <th>1</th>\n",
       "      <td>Stage 1: Qualification</td>\n",
       "      <td>Bunnell Hitchon Insurance-</td>\n",
       "      <td>Bunnell Hitchon Insurance</td>\n",
       "      <td>3/19/2021</td>\n",
       "      <td>3/31/2021</td>\n",
       "      <td>NaN</td>\n",
       "      <td>NaN</td>\n",
       "      <td>Luke Barris</td>\n",
       "      <td>PhantomPDF Business PDL 2016</td>\n",
       "      <td>Canada</td>\n",
       "      <td>Canada</td>\n",
       "      <td>Unknown</td>\n",
       "      <td>nthompson@bunnellhitchoninsurance.ca</td>\n",
       "      <td>NaN</td>\n",
       "    </tr>\n",
       "    <tr>\n",
       "      <th>2</th>\n",
       "      <td>Stage 1: Qualification</td>\n",
       "      <td>VETERANS' HILL ELEMENTARY-</td>\n",
       "      <td>Hutto ISD</td>\n",
       "      <td>2/17/2021</td>\n",
       "      <td>3/31/2021</td>\n",
       "      <td>NaN</td>\n",
       "      <td>NaN</td>\n",
       "      <td>Luke Barris</td>\n",
       "      <td>Volume Request</td>\n",
       "      <td>US</td>\n",
       "      <td>USA</td>\n",
       "      <td>Unknown</td>\n",
       "      <td>gloria.levario@huttoisd.net</td>\n",
       "      <td>NaN</td>\n",
       "    </tr>\n",
       "    <tr>\n",
       "      <th>3</th>\n",
       "      <td>Stage 1: Qualification</td>\n",
       "      <td>Alabama Destinations Career Academy-</td>\n",
       "      <td>Alabama Destinations Career Academy</td>\n",
       "      <td>1/27/2021</td>\n",
       "      <td>3/31/2021</td>\n",
       "      <td>NaN</td>\n",
       "      <td>NaN</td>\n",
       "      <td>Luke Barris</td>\n",
       "      <td>Volume Request</td>\n",
       "      <td>US</td>\n",
       "      <td>USA</td>\n",
       "      <td>Unknown</td>\n",
       "      <td>sburnett@k12.com</td>\n",
       "      <td>NaN</td>\n",
       "    </tr>\n",
       "    <tr>\n",
       "      <th>4</th>\n",
       "      <td>Stage 1: Qualification</td>\n",
       "      <td>Msmil: Wall Street English-, 15 STD, New</td>\n",
       "      <td>Wall Street English</td>\n",
       "      <td>8/6/2021</td>\n",
       "      <td>9/30/2021</td>\n",
       "      <td>NaN</td>\n",
       "      <td>15.0</td>\n",
       "      <td>Max Jhuang</td>\n",
       "      <td>Contact: Foxit Admin Console</td>\n",
       "      <td>Asian Pacific</td>\n",
       "      <td>Myanmar</td>\n",
       "      <td>New Business</td>\n",
       "      <td>tinthtetaung@wallstreetenglish.edu.mm</td>\n",
       "      <td>NaN</td>\n",
       "    </tr>\n",
       "  </tbody>\n",
       "</table>\n",
       "</div>"
      ],
      "text/plain": [
       "                    Stage                          Opportunity Name  \\\n",
       "0  Stage 1: Qualification                                   ISD191-   \n",
       "1  Stage 1: Qualification                Bunnell Hitchon Insurance-   \n",
       "2  Stage 1: Qualification                VETERANS' HILL ELEMENTARY-   \n",
       "3  Stage 1: Qualification      Alabama Destinations Career Academy-   \n",
       "4  Stage 1: Qualification  Msmil: Wall Street English-, 15 STD, New   \n",
       "\n",
       "                          Account Name Created Date Close Date  Amount  \\\n",
       "0                              ISD 191    2/16/2021  3/31/2021     NaN   \n",
       "1            Bunnell Hitchon Insurance    3/19/2021  3/31/2021     NaN   \n",
       "2                            Hutto ISD    2/17/2021  3/31/2021     NaN   \n",
       "3  Alabama Destinations Career Academy    1/27/2021  3/31/2021     NaN   \n",
       "4                  Wall Street English     8/6/2021  9/30/2021     NaN   \n",
       "\n",
       "   Licenses Quoted Opportunity Owner                   Lead Source  \\\n",
       "0              NaN       Luke Barris                Volume Request   \n",
       "1              NaN       Luke Barris  PhantomPDF Business PDL 2016   \n",
       "2              NaN       Luke Barris                Volume Request   \n",
       "3              NaN       Luke Barris                Volume Request   \n",
       "4             15.0        Max Jhuang  Contact: Foxit Admin Console   \n",
       "\n",
       "       Territory Country* field          Type  \\\n",
       "0             US            USA       Unknown   \n",
       "1         Canada         Canada       Unknown   \n",
       "2             US            USA       Unknown   \n",
       "3             US            USA       Unknown   \n",
       "4  Asian Pacific        Myanmar  New Business   \n",
       "\n",
       "                          Contact: Email Opportunity Product  \n",
       "0                      wbluhm@isd191.org                 NaN  \n",
       "1   nthompson@bunnellhitchoninsurance.ca                 NaN  \n",
       "2            gloria.levario@huttoisd.net                 NaN  \n",
       "3                       sburnett@k12.com                 NaN  \n",
       "4  tinthtetaung@wallstreetenglish.edu.mm                 NaN  "
      ]
     },
     "execution_count": 3,
     "metadata": {},
     "output_type": "execute_result"
    }
   ],
   "source": [
    "# Import the dataset\n",
    "opportunity = pd.read_excel('C:/JieZhang/NU/ALY6980/Data/OpportunityWW.xlsx')\n",
    "\n",
    "# Check the first 5 rows of the dataset\n",
    "opportunity.head(5)\n"
   ]
  },
  {
   "cell_type": "code",
   "execution_count": 4,
   "id": "4d6df1d2",
   "metadata": {},
   "outputs": [
    {
     "data": {
      "text/plain": [
       "(1577, 14)"
      ]
     },
     "execution_count": 4,
     "metadata": {},
     "output_type": "execute_result"
    }
   ],
   "source": [
    "# Summarize the dataset\n",
    "opportunity.shape\n"
   ]
  },
  {
   "cell_type": "code",
   "execution_count": 5,
   "id": "582373a3",
   "metadata": {},
   "outputs": [
    {
     "name": "stdout",
     "output_type": "stream",
     "text": [
      "<class 'pandas.core.frame.DataFrame'>\n",
      "RangeIndex: 1577 entries, 0 to 1576\n",
      "Data columns (total 14 columns):\n",
      " #   Column               Non-Null Count  Dtype  \n",
      "---  ------               --------------  -----  \n",
      " 0   Stage                1577 non-null   object \n",
      " 1   Opportunity Name     1577 non-null   object \n",
      " 2   Account Name         1576 non-null   object \n",
      " 3   Created Date         1577 non-null   object \n",
      " 4   Close Date           1577 non-null   object \n",
      " 5   Amount               1461 non-null   float64\n",
      " 6   Licenses Quoted      1204 non-null   float64\n",
      " 7   Opportunity Owner    1577 non-null   object \n",
      " 8   Lead Source          1561 non-null   object \n",
      " 9   Territory            1500 non-null   object \n",
      " 10  Country* field       1262 non-null   object \n",
      " 11  Type                 1577 non-null   object \n",
      " 12  Contact: Email       1017 non-null   object \n",
      " 13  Opportunity Product  288 non-null    object \n",
      "dtypes: float64(2), object(12)\n",
      "memory usage: 172.6+ KB\n"
     ]
    }
   ],
   "source": [
    "# Summarize the dataset\n",
    "opportunity.info()\n"
   ]
  },
  {
   "cell_type": "code",
   "execution_count": 6,
   "id": "219f53d0",
   "metadata": {},
   "outputs": [
    {
     "data": {
      "text/plain": [
       "Stage                     0\n",
       "Opportunity Name          0\n",
       "Account Name              1\n",
       "Created Date              0\n",
       "Close Date                0\n",
       "Amount                  116\n",
       "Licenses Quoted         373\n",
       "Opportunity Owner         0\n",
       "Lead Source              16\n",
       "Territory                77\n",
       "Country* field          315\n",
       "Type                      0\n",
       "Contact: Email          560\n",
       "Opportunity Product    1289\n",
       "dtype: int64"
      ]
     },
     "execution_count": 6,
     "metadata": {},
     "output_type": "execute_result"
    }
   ],
   "source": [
    "# Check the null values\n",
    "opportunity.isnull().sum()\n"
   ]
  },
  {
   "cell_type": "code",
   "execution_count": 7,
   "id": "d4efb2b2",
   "metadata": {},
   "outputs": [
    {
     "data": {
      "text/plain": [
       "Stage                     6\n",
       "Opportunity Name       1507\n",
       "Account Name           1104\n",
       "Created Date            524\n",
       "Close Date              455\n",
       "Amount                  958\n",
       "Licenses Quoted         127\n",
       "Opportunity Owner        57\n",
       "Lead Source             109\n",
       "Territory                14\n",
       "Country* field           69\n",
       "Type                      4\n",
       "Contact: Email          944\n",
       "Opportunity Product      12\n",
       "dtype: int64"
      ]
     },
     "execution_count": 7,
     "metadata": {},
     "output_type": "execute_result"
    }
   ],
   "source": [
    "# Check the unique number of each variable\n",
    "opportunity.nunique()\n"
   ]
  },
  {
   "cell_type": "code",
   "execution_count": 8,
   "id": "fe2c5a2c",
   "metadata": {},
   "outputs": [
    {
     "data": {
      "text/html": [
       "<div>\n",
       "<style scoped>\n",
       "    .dataframe tbody tr th:only-of-type {\n",
       "        vertical-align: middle;\n",
       "    }\n",
       "\n",
       "    .dataframe tbody tr th {\n",
       "        vertical-align: top;\n",
       "    }\n",
       "\n",
       "    .dataframe thead th {\n",
       "        text-align: right;\n",
       "    }\n",
       "</style>\n",
       "<table border=\"1\" class=\"dataframe\">\n",
       "  <thead>\n",
       "    <tr style=\"text-align: right;\">\n",
       "      <th></th>\n",
       "      <th>Amount</th>\n",
       "      <th>Licenses Quoted</th>\n",
       "    </tr>\n",
       "  </thead>\n",
       "  <tbody>\n",
       "    <tr>\n",
       "      <th>count</th>\n",
       "      <td>1461.000000</td>\n",
       "      <td>1204.000000</td>\n",
       "    </tr>\n",
       "    <tr>\n",
       "      <th>mean</th>\n",
       "      <td>3501.267769</td>\n",
       "      <td>238.027409</td>\n",
       "    </tr>\n",
       "    <tr>\n",
       "      <th>std</th>\n",
       "      <td>13095.330592</td>\n",
       "      <td>1469.479465</td>\n",
       "    </tr>\n",
       "    <tr>\n",
       "      <th>min</th>\n",
       "      <td>0.000000</td>\n",
       "      <td>0.000000</td>\n",
       "    </tr>\n",
       "    <tr>\n",
       "      <th>25%</th>\n",
       "      <td>267.000000</td>\n",
       "      <td>4.000000</td>\n",
       "    </tr>\n",
       "    <tr>\n",
       "      <th>50%</th>\n",
       "      <td>852.000000</td>\n",
       "      <td>10.000000</td>\n",
       "    </tr>\n",
       "    <tr>\n",
       "      <th>75%</th>\n",
       "      <td>2556.000000</td>\n",
       "      <td>71.250000</td>\n",
       "    </tr>\n",
       "    <tr>\n",
       "      <th>max</th>\n",
       "      <td>327156.000000</td>\n",
       "      <td>39800.000000</td>\n",
       "    </tr>\n",
       "  </tbody>\n",
       "</table>\n",
       "</div>"
      ],
      "text/plain": [
       "              Amount  Licenses Quoted\n",
       "count    1461.000000      1204.000000\n",
       "mean     3501.267769       238.027409\n",
       "std     13095.330592      1469.479465\n",
       "min         0.000000         0.000000\n",
       "25%       267.000000         4.000000\n",
       "50%       852.000000        10.000000\n",
       "75%      2556.000000        71.250000\n",
       "max    327156.000000     39800.000000"
      ]
     },
     "execution_count": 8,
     "metadata": {},
     "output_type": "execute_result"
    }
   ],
   "source": [
    "# Summarize the numeric data\n",
    "opportunity.describe()\n"
   ]
  },
  {
   "cell_type": "code",
   "execution_count": 11,
   "id": "ddfdc18f",
   "metadata": {},
   "outputs": [
    {
     "data": {
      "text/plain": [
       "Stage\n",
       "Closed Lost                  641\n",
       "Closed Won                   756\n",
       "Stage 1: Qualification       151\n",
       "Stage 2: Evaluation            7\n",
       "Stage 3: Proposal/POC         18\n",
       "Stage 5: Verbal Agreement      4\n",
       "dtype: int64"
      ]
     },
     "execution_count": 11,
     "metadata": {},
     "output_type": "execute_result"
    }
   ],
   "source": [
    "opportunity.groupby(\"Stage\").size()"
   ]
  },
  {
   "cell_type": "code",
   "execution_count": 37,
   "id": "b2cd46ac",
   "metadata": {},
   "outputs": [
    {
     "name": "stdout",
     "output_type": "stream",
     "text": [
      "<class 'pandas.core.frame.DataFrame'>\n",
      "Int64Index: 1397 entries, 180 to 1576\n",
      "Data columns (total 14 columns):\n",
      " #   Column               Non-Null Count  Dtype  \n",
      "---  ------               --------------  -----  \n",
      " 0   Stage                1397 non-null   object \n",
      " 1   Opportunity Name     1397 non-null   object \n",
      " 2   Account Name         1397 non-null   object \n",
      " 3   Created Date         1397 non-null   object \n",
      " 4   Close Date           1397 non-null   object \n",
      " 5   Amount               1312 non-null   float64\n",
      " 6   Licenses Quoted      1113 non-null   float64\n",
      " 7   Opportunity Owner    1397 non-null   object \n",
      " 8   Lead Source          1381 non-null   object \n",
      " 9   Territory            1329 non-null   object \n",
      " 10  Country* field       1096 non-null   object \n",
      " 11  Type                 1397 non-null   object \n",
      " 12  Contact: Email       875 non-null    object \n",
      " 13  Opportunity Product  191 non-null    object \n",
      "dtypes: float64(2), object(12)\n",
      "memory usage: 163.7+ KB\n"
     ]
    }
   ],
   "source": [
    "# Filter out only closed won and lost data as it accounts for almost 90% of the dataset\n",
    "data = opportunity[(opportunity[\"Stage\"] == \"Closed Lost\") | (opportunity[\"Stage\"] == \"Closed Won\")]\n",
    "data.info()"
   ]
  },
  {
   "cell_type": "code",
   "execution_count": 25,
   "id": "1356e215",
   "metadata": {},
   "outputs": [
    {
     "data": {
      "text/plain": [
       "Stage                     0\n",
       "Opportunity Name          0\n",
       "Account Name              0\n",
       "Created Date              0\n",
       "Close Date                0\n",
       "Amount                   85\n",
       "Licenses Quoted         284\n",
       "Opportunity Owner         0\n",
       "Lead Source              16\n",
       "Territory                68\n",
       "Country* field          301\n",
       "Type                      0\n",
       "Contact: Email          522\n",
       "Opportunity Product    1206\n",
       "dtype: int64"
      ]
     },
     "execution_count": 25,
     "metadata": {},
     "output_type": "execute_result"
    }
   ],
   "source": [
    "# Check the null values\n",
    "data.isnull().sum()"
   ]
  },
  {
   "cell_type": "code",
   "execution_count": 26,
   "id": "ada8774b",
   "metadata": {},
   "outputs": [
    {
     "data": {
      "text/plain": [
       "Stage                     2\n",
       "Opportunity Name       1335\n",
       "Account Name            968\n",
       "Created Date            502\n",
       "Close Date              445\n",
       "Amount                  897\n",
       "Licenses Quoted         124\n",
       "Opportunity Owner        54\n",
       "Lead Source             100\n",
       "Territory                14\n",
       "Country* field           64\n",
       "Type                      4\n",
       "Contact: Email          810\n",
       "Opportunity Product      12\n",
       "dtype: int64"
      ]
     },
     "execution_count": 26,
     "metadata": {},
     "output_type": "execute_result"
    }
   ],
   "source": [
    "# Check the unique number of each variable\n",
    "data.nunique()"
   ]
  },
  {
   "cell_type": "markdown",
   "id": "de50455f",
   "metadata": {},
   "source": [
    "# Data Cleaning"
   ]
  },
  {
   "cell_type": "code",
   "execution_count": 38,
   "id": "d0862e8b",
   "metadata": {},
   "outputs": [
    {
     "name": "stdout",
     "output_type": "stream",
     "text": [
      "<class 'pandas.core.frame.DataFrame'>\n",
      "Int64Index: 1397 entries, 180 to 1576\n",
      "Data columns (total 7 columns):\n",
      " #   Column             Non-Null Count  Dtype  \n",
      "---  ------             --------------  -----  \n",
      " 0   Stage              1397 non-null   object \n",
      " 1   Created Date       1397 non-null   object \n",
      " 2   Close Date         1397 non-null   object \n",
      " 3   Amount             1312 non-null   float64\n",
      " 4   Opportunity Owner  1397 non-null   object \n",
      " 5   Lead Source        1381 non-null   object \n",
      " 6   Territory          1329 non-null   object \n",
      "dtypes: float64(1), object(6)\n",
      "memory usage: 87.3+ KB\n"
     ]
    }
   ],
   "source": [
    "# Drop columns that contain more than 10% Null values, as well as unnecessary columns\n",
    "data = data.drop([\"Opportunity Name\", \"Account Name\", \"Licenses Quoted\", \"Country* field\", \"Type\", \"Contact: Email\", \"Opportunity Product\"], axis = 1)\n",
    "data.info()"
   ]
  },
  {
   "cell_type": "markdown",
   "id": "46e51b65",
   "metadata": {},
   "source": [
    "### Create New Column"
   ]
  },
  {
   "cell_type": "code",
   "execution_count": 39,
   "id": "b0812f15",
   "metadata": {},
   "outputs": [
    {
     "name": "stdout",
     "output_type": "stream",
     "text": [
      "<class 'pandas.core.frame.DataFrame'>\n",
      "Int64Index: 1397 entries, 180 to 1576\n",
      "Data columns (total 6 columns):\n",
      " #   Column             Non-Null Count  Dtype  \n",
      "---  ------             --------------  -----  \n",
      " 0   Stage              1397 non-null   object \n",
      " 1   Amount             1312 non-null   float64\n",
      " 2   Opportunity Owner  1397 non-null   object \n",
      " 3   Lead Source        1381 non-null   object \n",
      " 4   Territory          1329 non-null   object \n",
      " 5   Duration           1397 non-null   int64  \n",
      "dtypes: float64(1), int64(1), object(4)\n",
      "memory usage: 76.4+ KB\n"
     ]
    }
   ],
   "source": [
    "# Convert Created Date and Close Date variables to datetime form\n",
    "data['Created Date'] = pd.to_datetime(data['Created Date']).dt.strftime('%Y-%m-%d')\n",
    "data['Close Date'] = pd.to_datetime(data['Close Date']).dt.strftime('%Y-%m-%d')\n",
    "data['Created Date'] = pd.to_datetime(data['Created Date'])\n",
    "data['Close Date'] = pd.to_datetime(data['Close Date'])\n",
    "\n",
    "# Create a new column contains meatured day difference bewteen AppointmentDay and ScheduledDay\n",
    "data['Duration'] = (data['Close Date'] - data['Created Date']).dt.days\n",
    "\n",
    "# Drop unnecessary columns\n",
    "data = data.drop([\"Created Date\", \"Close Date\"], axis = 1)\n",
    "data.info()"
   ]
  },
  {
   "cell_type": "markdown",
   "id": "7d679002",
   "metadata": {},
   "source": [
    "### Misssing Values"
   ]
  },
  {
   "cell_type": "code",
   "execution_count": 45,
   "id": "9469e5f9",
   "metadata": {},
   "outputs": [
    {
     "data": {
      "text/plain": [
       "count      1312.000000\n",
       "mean       3658.093438\n",
       "std       13784.508684\n",
       "min           0.000000\n",
       "25%         245.825000\n",
       "50%         783.500000\n",
       "75%        2651.850000\n",
       "max      327156.000000\n",
       "Name: Amount, dtype: float64"
      ]
     },
     "execution_count": 45,
     "metadata": {},
     "output_type": "execute_result"
    }
   ],
   "source": [
    "# Summarize the numeric variable\n",
    "data[\"Amount\"].describe()"
   ]
  },
  {
   "cell_type": "code",
   "execution_count": 42,
   "id": "d45f4734",
   "metadata": {},
   "outputs": [
    {
     "data": {
      "image/png": "[encoded data removed]",
      "text/plain": [
       "<Figure size 432x288 with 1 Axes>"
      ]
     },
     "metadata": {
      "needs_background": "light"
     },
     "output_type": "display_data"
    }
   ],
   "source": [
    "# Check the distributions for the numeric variable\n",
    "plt.title(\"Amount\")\n",
    "sns.distplot(x = data[\"Amount\"])\n",
    "    \n",
    "plt.xticks()\n",
    "plt.show()\n"
   ]
  },
  {
   "cell_type": "code",
   "execution_count": 65,
   "id": "9f7ddab9",
   "metadata": {},
   "outputs": [
    {
     "name": "stdout",
     "output_type": "stream",
     "text": [
      "<class 'pandas.core.frame.DataFrame'>\n",
      "Int64Index: 1397 entries, 180 to 1576\n",
      "Data columns (total 6 columns):\n",
      " #   Column             Non-Null Count  Dtype  \n",
      "---  ------             --------------  -----  \n",
      " 0   Stage              1397 non-null   object \n",
      " 1   Amount             1397 non-null   float64\n",
      " 2   Opportunity Owner  1397 non-null   object \n",
      " 3   Lead Source        1381 non-null   object \n",
      " 4   Territory          1329 non-null   object \n",
      " 5   Duration           1397 non-null   int64  \n",
      "dtypes: float64(1), int64(1), object(4)\n",
      "memory usage: 76.4+ KB\n"
     ]
    }
   ],
   "source": [
    "# Replace with median\n",
    "data1 = data\n",
    "data1[\"Amount\"] = data1[\"Amount\"].fillna(data1[\"Amount\"].median())\n",
    "data1.info()"
   ]
  },
  {
   "cell_type": "code",
   "execution_count": 66,
   "id": "83328185",
   "metadata": {},
   "outputs": [
    {
     "name": "stdout",
     "output_type": "stream",
     "text": [
      "<class 'pandas.core.frame.DataFrame'>\n",
      "RangeIndex: 1313 entries, 0 to 1312\n",
      "Data columns (total 6 columns):\n",
      " #   Column             Non-Null Count  Dtype  \n",
      "---  ------             --------------  -----  \n",
      " 0   Stage              1313 non-null   object \n",
      " 1   Amount             1313 non-null   float64\n",
      " 2   Opportunity Owner  1313 non-null   object \n",
      " 3   Lead Source        1313 non-null   object \n",
      " 4   Territory          1313 non-null   object \n",
      " 5   Duration           1313 non-null   int64  \n",
      "dtypes: float64(1), int64(1), object(4)\n",
      "memory usage: 61.7+ KB\n"
     ]
    }
   ],
   "source": [
    "# Remove the rest NANs which are less than 5%\n",
    "data1 = data1.dropna(subset=[\"Lead Source\", \"Territory\"]).reset_index(drop=True)\n",
    "data1.info()"
   ]
  },
  {
   "cell_type": "markdown",
   "id": "92b001f8",
   "metadata": {},
   "source": [
    "# Logistic Regression"
   ]
  },
  {
   "cell_type": "code",
   "execution_count": 82,
   "id": "5564321c",
   "metadata": {},
   "outputs": [
    {
     "data": {
      "text/html": [
       "<div>\n",
       "<style scoped>\n",
       "    .dataframe tbody tr th:only-of-type {\n",
       "        vertical-align: middle;\n",
       "    }\n",
       "\n",
       "    .dataframe tbody tr th {\n",
       "        vertical-align: top;\n",
       "    }\n",
       "\n",
       "    .dataframe thead th {\n",
       "        text-align: right;\n",
       "    }\n",
       "</style>\n",
       "<table border=\"1\" class=\"dataframe\">\n",
       "  <thead>\n",
       "    <tr style=\"text-align: right;\">\n",
       "      <th></th>\n",
       "      <th>Stage</th>\n",
       "      <th>Amount</th>\n",
       "      <th>Opportunity Owner</th>\n",
       "      <th>Lead Source</th>\n",
       "      <th>Territory</th>\n",
       "      <th>Duration</th>\n",
       "    </tr>\n",
       "  </thead>\n",
       "  <tbody>\n",
       "    <tr>\n",
       "      <th>0</th>\n",
       "      <td>1</td>\n",
       "      <td>783.5</td>\n",
       "      <td>49</td>\n",
       "      <td>73</td>\n",
       "      <td>5</td>\n",
       "      <td>5</td>\n",
       "    </tr>\n",
       "    <tr>\n",
       "      <th>1</th>\n",
       "      <td>1</td>\n",
       "      <td>783.5</td>\n",
       "      <td>25</td>\n",
       "      <td>47</td>\n",
       "      <td>5</td>\n",
       "      <td>302</td>\n",
       "    </tr>\n",
       "    <tr>\n",
       "      <th>2</th>\n",
       "      <td>1</td>\n",
       "      <td>0.0</td>\n",
       "      <td>22</td>\n",
       "      <td>18</td>\n",
       "      <td>13</td>\n",
       "      <td>33</td>\n",
       "    </tr>\n",
       "    <tr>\n",
       "      <th>3</th>\n",
       "      <td>1</td>\n",
       "      <td>0.0</td>\n",
       "      <td>49</td>\n",
       "      <td>90</td>\n",
       "      <td>5</td>\n",
       "      <td>55</td>\n",
       "    </tr>\n",
       "    <tr>\n",
       "      <th>4</th>\n",
       "      <td>1</td>\n",
       "      <td>0.0</td>\n",
       "      <td>11</td>\n",
       "      <td>39</td>\n",
       "      <td>5</td>\n",
       "      <td>23</td>\n",
       "    </tr>\n",
       "  </tbody>\n",
       "</table>\n",
       "</div>"
      ],
      "text/plain": [
       "   Stage  Amount  Opportunity Owner  Lead Source  Territory  Duration\n",
       "0      1   783.5                 49           73          5         5\n",
       "1      1   783.5                 25           47          5       302\n",
       "2      1     0.0                 22           18         13        33\n",
       "3      1     0.0                 49           90          5        55\n",
       "4      1     0.0                 11           39          5        23"
      ]
     },
     "execution_count": 82,
     "metadata": {},
     "output_type": "execute_result"
    }
   ],
   "source": [
    "# Label encoding for categorical variables\n",
    "data1[\"Stage\"] = LabelEncoder().fit_transform(data1[\"Stage\"])\n",
    "data1[\"Opportunity Owner\"] = LabelEncoder().fit_transform(data1[\"Opportunity Owner\"])\n",
    "data1[\"Lead Source\"] = LabelEncoder().fit_transform(data1[\"Lead Source\"])\n",
    "data1[\"Territory\"] = LabelEncoder().fit_transform(data1[\"Territory\"])\n",
    "\n",
    "data1.head()"
   ]
  },
  {
   "cell_type": "code",
   "execution_count": 84,
   "id": "adfcdcba",
   "metadata": {},
   "outputs": [],
   "source": [
    "X = data1.drop([\"Stage\"], axis = 1)\n",
    "y = data1[\"Stage\"]"
   ]
  },
  {
   "cell_type": "code",
   "execution_count": 85,
   "id": "49861d52",
   "metadata": {},
   "outputs": [],
   "source": [
    "# Nomalization of numeric features\n",
    "scaler = StandardScaler()\n",
    "X = scaler.fit_transform(X)"
   ]
  },
  {
   "cell_type": "code",
   "execution_count": 89,
   "id": "fdee8b08",
   "metadata": {},
   "outputs": [],
   "source": [
    "# Split the dataset into training and test set\n",
    "random.seed(10)\n",
    "X_train, X_test, y_train, y_test = train_test_split(X, y, train_size = 0.8, test_size = 0.2, random_state = 42)"
   ]
  },
  {
   "cell_type": "code",
   "execution_count": 91,
   "id": "898bdad0",
   "metadata": {},
   "outputs": [
    {
     "name": "stdout",
     "output_type": "stream",
     "text": [
      "              precision    recall  f1-score   support\n",
      "\n",
      "           0       0.90      0.72      0.80       124\n",
      "           1       0.79      0.93      0.85       139\n",
      "\n",
      "    accuracy                           0.83       263\n",
      "   macro avg       0.84      0.82      0.82       263\n",
      "weighted avg       0.84      0.83      0.83       263\n",
      "\n"
     ]
    }
   ],
   "source": [
    "# Fit a logistic regression model to the training set\n",
    "log = LogisticRegression(random_state=42)\n",
    "lr_model = log.fit(X_train,y_train)\n",
    "\n",
    "# Predict the test set results\n",
    "y_pred_lr = lr_model.predict(X_test)\n",
    "\n",
    "# Print classification report\n",
    "print(classification_report(y_test, y_pred_lr))\n"
   ]
  },
  {
   "cell_type": "code",
   "execution_count": 94,
   "id": "4e809b32",
   "metadata": {},
   "outputs": [
    {
     "name": "stdout",
     "output_type": "stream",
     "text": [
      "The accuracy of the logistic regression model is 82.89% at a precision rate of 78.66% with a recall score of 92.81%, and the F1 score is 0.85.\n"
     ]
    }
   ],
   "source": [
    "# Print out the model results\n",
    "lr_accuracy = accuracy_score(y_test, y_pred_lr)\n",
    "lr_precision = precision_score(y_test, y_pred_lr)\n",
    "lr_recall = recall_score(y_test, y_pred_lr)\n",
    "lr_f1 = f1_score(y_test, y_pred_lr)\n",
    "\n",
    "print(\"The accuracy of the logistic regression model is \" + str(round(lr_accuracy*100, 2)) + \"% at a precision rate of \" + \n",
    "      str(round(lr_precision*100, 2)) + \"% with a recall score of \" + str(round(lr_recall*100, 2)) + \n",
    "      \"%, and the F1 score is \" + str(round(lr_f1, 2)) + \".\")"
   ]
  },
  {
   "cell_type": "code",
   "execution_count": 95,
   "id": "b4ef82d0",
   "metadata": {},
   "outputs": [
    {
     "data": {
      "image/png": "[encoded data removed]",
      "text/plain": [
       "<Figure size 432x288 with 2 Axes>"
      ]
     },
     "metadata": {
      "needs_background": "light"
     },
     "output_type": "display_data"
    },
    {
     "data": {
      "image/png": "[encoded data removed]",
      "text/plain": [
       "<Figure size 432x288 with 2 Axes>"
      ]
     },
     "metadata": {
      "needs_background": "light"
     },
     "output_type": "display_data"
    }
   ],
   "source": [
    "# Creat a confusion matrix\n",
    "cm_lr = confusion_matrix(y_test, y_pred_lr)\n",
    "\n",
    "# Plot the confusion matrix\n",
    "ax_lr = sns.heatmap(cm_lr, annot = True, cmap = \"Blues\", fmt = \"3g\")\n",
    "\n",
    "ax_lr.set_title(\"Confusion Matrix\")\n",
    "ax_lr.set_xlabel(\"Predicted Values\")\n",
    "ax_lr.set_ylabel(\"Actual Values\")\n",
    "ax_lr.set_xticklabels([\"False\", \"True\"])\n",
    "ax_lr.set_yticklabels([\"False\", \"True\"])\n",
    "\n",
    "plt.show()\n",
    "\n",
    "# Plot the confusion matrix in percentage\n",
    "ax_lr_p = sns.heatmap(cm_lr/np.sum(cm_lr), annot = True, fmt = \"0.2%\", cmap = \"Blues\")\n",
    "\n",
    "ax_lr_p.set_title(\"Confusion Matrix in Percentage\");\n",
    "ax_lr_p.set_xlabel(\"Predicted Values\")\n",
    "ax_lr_p.set_ylabel(\"Actual Values\");\n",
    "ax_lr_p.set_xticklabels([\"False\", \"True\"])\n",
    "ax_lr_p.set_yticklabels([\"False\", \"True\"])\n",
    "\n",
    "plt.show()"
   ]
  },
  {
   "cell_type": "code",
   "execution_count": 97,
   "id": "7b0b7ff0",
   "metadata": {},
   "outputs": [
    {
     "data": {
      "image/png": "[encoded data removed]",
      "text/plain": [
       "<Figure size 432x288 with 1 Axes>"
      ]
     },
     "metadata": {
      "needs_background": "light"
     },
     "output_type": "display_data"
    }
   ],
   "source": [
    "# Plot the ROC curve\n",
    "pred_prob = lr_model.predict_proba(X_test)\n",
    "fpr,tpr,thresholds = roc_curve(y_test, pred_prob[:,1])\n",
    "roc_auc =auc(fpr,tpr)\n",
    "plt.plot(fpr,tpr,color='red',lw=2,label='ROC curve (AUC = %0.4f)'%roc_auc)\n",
    "plt.plot([0, 1],[0, 1],color='navy',lw=2,linestyle='--')\n",
    "plt.xlabel('False Positive Rate')\n",
    "plt.ylabel('True Positive Rate')\n",
    "plt.title('ROC Curve')\n",
    "plt.legend(loc=\"lower right\")\n",
    "\n",
    "plt.show()"
   ]
  },
  {
   "cell_type": "markdown",
   "id": "ac5c88db",
   "metadata": {},
   "source": [
    "### Feature Importance"
   ]
  },
  {
   "cell_type": "code",
   "execution_count": 101,
   "id": "83f09a86",
   "metadata": {},
   "outputs": [
    {
     "data": {
      "image/png": "[encoded data removed]",
      "text/plain": [
       "<Figure size 720x360 with 1 Axes>"
      ]
     },
     "metadata": {
      "needs_background": "light"
     },
     "output_type": "display_data"
    }
   ],
   "source": [
    "# Determine the most contributing features\n",
    "def f_importances(coef, names):\n",
    "    imp = coef\n",
    "    imp,names = zip(*sorted(zip(imp,names)))\n",
    "    plt.figure(figsize = (10,5))\n",
    "    plt.barh(range(len(names)), imp, align='center')\n",
    "    plt.title(\"Feature Importance\",fontsize=20)\n",
    "    plt.yticks(range(len(names)),names,fontsize=15)\n",
    "    plt.show()\n",
    "\n",
    "f_importances(lr_model.coef_[0],data1.drop([\"Stage\"],axis=1).columns.values)"
   ]
  },
  {
   "cell_type": "markdown",
   "id": "b27fd5b1",
   "metadata": {},
   "source": [
    "# Linear Regression"
   ]
  },
  {
   "cell_type": "code",
   "execution_count": 102,
   "id": "2521b4db",
   "metadata": {},
   "outputs": [
    {
     "name": "stdout",
     "output_type": "stream",
     "text": [
      "                            OLS Regression Results                            \n",
      "==============================================================================\n",
      "Dep. Variable:                  Stage   R-squared:                       0.373\n",
      "Model:                            OLS   Adj. R-squared:                  0.370\n",
      "Method:                 Least Squares   F-statistic:                     124.3\n",
      "Date:                Sun, 12 Mar 2023   Prob (F-statistic):          2.53e-103\n",
      "Time:                        21:54:03   Log-Likelihood:                -514.86\n",
      "No. Observations:                1050   AIC:                             1042.\n",
      "Df Residuals:                    1044   BIC:                             1071.\n",
      "Df Model:                           5                                         \n",
      "Covariance Type:            nonrobust                                         \n",
      "==============================================================================\n",
      "                 coef    std err          t      P>|t|      [0.025      0.975]\n",
      "------------------------------------------------------------------------------\n",
      "const          0.5300      0.012     43.329      0.000       0.506       0.554\n",
      "x1            -0.0202      0.012     -1.687      0.092      -0.044       0.003\n",
      "x2            -0.0196      0.013     -1.506      0.132      -0.045       0.006\n",
      "x3            -0.0759      0.012     -6.111      0.000      -0.100      -0.052\n",
      "x4             0.0304      0.013      2.295      0.022       0.004       0.056\n",
      "x5            -0.2910      0.013    -21.949      0.000      -0.317      -0.265\n",
      "==============================================================================\n",
      "Omnibus:                       68.883   Durbin-Watson:                   2.017\n",
      "Prob(Omnibus):                  0.000   Jarque-Bera (JB):               42.479\n",
      "Skew:                          -0.359   Prob(JB):                     5.97e-10\n",
      "Kurtosis:                       2.324   Cond. No.                         1.57\n",
      "==============================================================================\n",
      "\n",
      "Notes:\n",
      "[1] Standard Errors assume that the covariance matrix of the errors is correctly specified.\n"
     ]
    }
   ],
   "source": [
    "# Fit a linear regression model to the training set\n",
    "import statsmodels.api as sm\n",
    "from scipy import stats\n",
    "\n",
    "X2 = sm.add_constant(X_train)\n",
    "ols = sm.OLS(y_train,X2)\n",
    "ols_model = ols.fit()\n",
    "print(ols_model.summary())\n"
   ]
  },
  {
   "cell_type": "markdown",
   "id": "dcadb0a6",
   "metadata": {},
   "source": [
    "### Feature Importance"
   ]
  },
  {
   "cell_type": "code",
   "execution_count": 117,
   "id": "1cd0a654",
   "metadata": {},
   "outputs": [
    {
     "name": "stdout",
     "output_type": "stream",
     "text": [
      "const    0.529967\n",
      "x1      -0.020151\n",
      "x2      -0.019572\n",
      "x3      -0.075924\n",
      "x4       0.030354\n",
      "x5      -0.291030\n",
      "dtype: float64\n"
     ]
    }
   ],
   "source": [
    "# Print the coefficients of the linear regression model\n",
    "print(ols_model.params)"
   ]
  },
  {
   "cell_type": "code",
   "execution_count": 123,
   "id": "eb72ba9f",
   "metadata": {},
   "outputs": [
    {
     "data": {
      "image/png": "[encoded data removed]",
      "text/plain": [
       "<Figure size 720x360 with 1 Axes>"
      ]
     },
     "metadata": {
      "needs_background": "light"
     },
     "output_type": "display_data"
    }
   ],
   "source": [
    "# Determine the most contributing features\n",
    "f_importances(ols_model.params[1:],data1.drop([\"Stage\"],axis=1).columns.values)"
   ]
  },
  {
   "cell_type": "code",
   "execution_count": null,
   "id": "18c5cc85",
   "metadata": {},
   "outputs": [],
   "source": []
  },
  {
   "cell_type": "code",
   "execution_count": null,
   "id": "8e13d4b0",
   "metadata": {},
   "outputs": [],
   "source": []
  }
 ],
 "metadata": {
  "kernelspec": {
   "display_name": "Python 3 (ipykernel)",
   "language": "python",
   "name": "python3"
  },
  "language_info": {
   "codemirror_mode": {
    "name": "ipython",
    "version": 3
   },
   "file_extension": ".py",
   "mimetype": "text/x-python",
   "name": "python",
   "nbconvert_exporter": "python",
   "pygments_lexer": "ipython3",
   "version": "3.9.12"
  }
 },
 "nbformat": 4,
 "nbformat_minor": 5
}
